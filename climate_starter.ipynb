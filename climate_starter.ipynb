{
 "cells": [
  {
   "cell_type": "code",
   "execution_count": 1,
   "metadata": {},
   "outputs": [],
   "source": [
    "%matplotlib inline\n",
    "from matplotlib import style\n",
    "style.use('fivethirtyeight')\n",
    "import matplotlib.pyplot as plt\n",
    "import numpy as np\n",
    "import pandas as pd"
   ]
  },
  {
   "cell_type": "markdown",
   "metadata": {},
   "source": [
    "# Reflect Tables into SQLAlchemy ORM"
   ]
  },
  {
   "cell_type": "code",
   "execution_count": 2,
   "metadata": {},
   "outputs": [],
   "source": [
    "# Python SQL toolkit and Object Relational Mapper\n",
    "import sqlalchemy\n",
    "from sqlalchemy.ext.automap import automap_base\n",
    "from sqlalchemy.orm import Session\n",
    "from sqlalchemy import create_engine, func, inspect\n",
    "import datetime\n",
    "import scipy.stats as stats"
   ]
  },
  {
   "cell_type": "code",
   "execution_count": 3,
   "metadata": {},
   "outputs": [],
   "source": [
    "engine = create_engine(\"sqlite:///Resources/hawaii.sqlite\")"
   ]
  },
  {
   "cell_type": "code",
   "execution_count": 4,
   "metadata": {},
   "outputs": [],
   "source": [
    "# reflect an existing database into a new model\n",
    "Base = automap_base()\n",
    "# reflect the tables\n",
    "Base.prepare(engine, reflect=True)"
   ]
  },
  {
   "cell_type": "code",
   "execution_count": 5,
   "metadata": {},
   "outputs": [
    {
     "data": {
      "text/plain": [
       "['measurement', 'station']"
      ]
     },
     "execution_count": 5,
     "metadata": {},
     "output_type": "execute_result"
    }
   ],
   "source": [
    "# We can view all of the classes that automap found\n",
    "Base.classes.keys()"
   ]
  },
  {
   "cell_type": "code",
   "execution_count": 6,
   "metadata": {},
   "outputs": [],
   "source": [
    "# Save references to each table\n",
    "Measurement = Base.classes.measurement\n",
    "Station = Base.classes.station"
   ]
  },
  {
   "cell_type": "code",
   "execution_count": 7,
   "metadata": {},
   "outputs": [],
   "source": [
    "# Create our session (link) from Python to the DB\n",
    "session = Session(engine)"
   ]
  },
  {
   "cell_type": "code",
   "execution_count": 8,
   "metadata": {},
   "outputs": [
    {
     "data": {
      "text/plain": [
       "['measurement', 'station']"
      ]
     },
     "execution_count": 8,
     "metadata": {},
     "output_type": "execute_result"
    }
   ],
   "source": [
    "# Get a list of table name in Database\n",
    "inspector = inspect(engine)\n",
    "inspector.get_table_names()"
   ]
  },
  {
   "cell_type": "code",
   "execution_count": 9,
   "metadata": {},
   "outputs": [
    {
     "name": "stdout",
     "output_type": "stream",
     "text": [
      "------------table measurement------\n",
      "id INTEGER\n",
      "station TEXT\n",
      "date TEXT\n",
      "prcp FLOAT\n",
      "tobs FLOAT\n",
      "------------table station--------\n",
      "id INTEGER\n",
      "station TEXT\n",
      "name TEXT\n",
      "latitude FLOAT\n",
      "longitude FLOAT\n",
      "elevation FLOAT\n"
     ]
    }
   ],
   "source": [
    "# Get a list of column names and types\n",
    "print(\"------------table measurement------\")\n",
    "columns = inspector.get_columns('measurement')\n",
    "for c in columns:\n",
    "    print(c['name'], c[\"type\"])\n",
    "print(\"------------table station--------\")\n",
    "columns = inspector.get_columns('station')\n",
    "for c in columns:\n",
    "    print(c['name'], c[\"type\"])"
   ]
  },
  {
   "cell_type": "markdown",
   "metadata": {},
   "source": [
    "# Exploratory Climate Analysis"
   ]
  },
  {
   "cell_type": "code",
   "execution_count": 10,
   "metadata": {},
   "outputs": [
    {
     "name": "stdout",
     "output_type": "stream",
     "text": [
      "----------- Calculate the date 1 year ago from the lastest data point in the database---------------\n",
      "The latest date:2016-08-23\n"
     ]
    }
   ],
   "source": [
    "# Design a query to retrieve the last 12 months of precipitation data and plot the results\n",
    "#get the latest date in the database\n",
    "latest_date = session.query(Measurement.date).order_by(Measurement.date.desc()).first()\n",
    "# Calculate the date 1 year ago from the last data point in the database\n",
    "last_12month_date = datetime.datetime.strptime(latest_date[0], '%Y-%m-%d')- datetime.timedelta(days=365)\n",
    "\n",
    "print(\"----------- Calculate the date 1 year ago from the lastest data point in the database---------------\")\n",
    "print(\"The latest date:{}\".format(last_12month_date.date()))"
   ]
  },
  {
   "cell_type": "code",
   "execution_count": 11,
   "metadata": {},
   "outputs": [],
   "source": [
    "# Perform a query to retrieve the data and precipitation scores\n",
    "last_12month_data = session.query(Measurement.date,Measurement.prcp)\\\n",
    "                    .order_by(Measurement.date.desc())\\\n",
    "                    .filter(Measurement.date > last_12month_date).all()"
   ]
  },
  {
   "cell_type": "code",
   "execution_count": 12,
   "metadata": {},
   "outputs": [
    {
     "name": "stdout",
     "output_type": "stream",
     "text": [
      "----------- Sort the dataframe by date---------------\n"
     ]
    },
    {
     "data": {
      "text/html": [
       "<div>\n",
       "<style scoped>\n",
       "    .dataframe tbody tr th:only-of-type {\n",
       "        vertical-align: middle;\n",
       "    }\n",
       "\n",
       "    .dataframe tbody tr th {\n",
       "        vertical-align: top;\n",
       "    }\n",
       "\n",
       "    .dataframe thead th {\n",
       "        text-align: right;\n",
       "    }\n",
       "</style>\n",
       "<table border=\"1\" class=\"dataframe\">\n",
       "  <thead>\n",
       "    <tr style=\"text-align: right;\">\n",
       "      <th></th>\n",
       "      <th>prcp</th>\n",
       "    </tr>\n",
       "    <tr>\n",
       "      <th>date</th>\n",
       "      <th></th>\n",
       "    </tr>\n",
       "  </thead>\n",
       "  <tbody>\n",
       "    <tr>\n",
       "      <th>2016-08-24</th>\n",
       "      <td>1.45</td>\n",
       "    </tr>\n",
       "    <tr>\n",
       "      <th>2016-08-24</th>\n",
       "      <td>0.08</td>\n",
       "    </tr>\n",
       "    <tr>\n",
       "      <th>2016-08-24</th>\n",
       "      <td>2.15</td>\n",
       "    </tr>\n",
       "    <tr>\n",
       "      <th>2016-08-24</th>\n",
       "      <td>2.15</td>\n",
       "    </tr>\n",
       "    <tr>\n",
       "      <th>2016-08-24</th>\n",
       "      <td>2.28</td>\n",
       "    </tr>\n",
       "  </tbody>\n",
       "</table>\n",
       "</div>"
      ],
      "text/plain": [
       "            prcp\n",
       "date            \n",
       "2016-08-24  1.45\n",
       "2016-08-24  0.08\n",
       "2016-08-24  2.15\n",
       "2016-08-24  2.15\n",
       "2016-08-24  2.28"
      ]
     },
     "execution_count": 12,
     "metadata": {},
     "output_type": "execute_result"
    }
   ],
   "source": [
    "# Save the query results as a Pandas DataFrame and set the index to the date column\n",
    "last_12month_data_df = pd.DataFrame(last_12month_data)\n",
    "# Sort the dataframe by date\n",
    "last_12month_data_df = last_12month_data_df.sort_values('date')\n",
    "last_12month_data_df = last_12month_data_df.dropna()\n",
    "print(\"----------- Sort the dataframe by date---------------\")\n",
    "last_12month_data_df.set_index('date', inplace=True)\n",
    "last_12month_data_df.head()"
   ]
  },
  {
   "cell_type": "code",
   "execution_count": 255,
   "metadata": {},
   "outputs": [
    {
     "data": {
      "image/png": "[encoded data removed]",
      "text/plain": [
       "<Figure size 648x432 with 1 Axes>"
      ]
     },
     "metadata": {},
     "output_type": "display_data"
    }
   ],
   "source": [
    "# Use Pandas Plotting with Matplotlib to plot the data\n",
    "last_12month_data_df.plot(figsize=(9,6))\n",
    "plt.title(\"Precipitation ({0} to {1})\".format(last_12month_date.date(),latest_date[0]))\n",
    "plt.xlabel(\"Date\")\n",
    "plt.ylabel(\"Precipitation\")\n",
    "plt.legend([\"Precipitation\"])\n",
    "plt.xticks(rotation=90)\n",
    "plt.tight_layout()\n",
    "plt.show()"
   ]
  },
  {
   "cell_type": "code",
   "execution_count": 256,
   "metadata": {},
   "outputs": [
    {
     "name": "stdout",
     "output_type": "stream",
     "text": [
      "The summary statistics for the precipitation data\n"
     ]
    },
    {
     "data": {
      "text/html": [
       "<div>\n",
       "<style scoped>\n",
       "    .dataframe tbody tr th:only-of-type {\n",
       "        vertical-align: middle;\n",
       "    }\n",
       "\n",
       "    .dataframe tbody tr th {\n",
       "        vertical-align: top;\n",
       "    }\n",
       "\n",
       "    .dataframe thead th {\n",
       "        text-align: right;\n",
       "    }\n",
       "</style>\n",
       "<table border=\"1\" class=\"dataframe\">\n",
       "  <thead>\n",
       "    <tr style=\"text-align: right;\">\n",
       "      <th></th>\n",
       "      <th>prcp</th>\n",
       "    </tr>\n",
       "  </thead>\n",
       "  <tbody>\n",
       "    <tr>\n",
       "      <th>count</th>\n",
       "      <td>2015.000000</td>\n",
       "    </tr>\n",
       "    <tr>\n",
       "      <th>mean</th>\n",
       "      <td>0.176462</td>\n",
       "    </tr>\n",
       "    <tr>\n",
       "      <th>std</th>\n",
       "      <td>0.460288</td>\n",
       "    </tr>\n",
       "    <tr>\n",
       "      <th>min</th>\n",
       "      <td>0.000000</td>\n",
       "    </tr>\n",
       "    <tr>\n",
       "      <th>25%</th>\n",
       "      <td>0.000000</td>\n",
       "    </tr>\n",
       "    <tr>\n",
       "      <th>50%</th>\n",
       "      <td>0.020000</td>\n",
       "    </tr>\n",
       "    <tr>\n",
       "      <th>75%</th>\n",
       "      <td>0.130000</td>\n",
       "    </tr>\n",
       "    <tr>\n",
       "      <th>max</th>\n",
       "      <td>6.700000</td>\n",
       "    </tr>\n",
       "  </tbody>\n",
       "</table>\n",
       "</div>"
      ],
      "text/plain": [
       "              prcp\n",
       "count  2015.000000\n",
       "mean      0.176462\n",
       "std       0.460288\n",
       "min       0.000000\n",
       "25%       0.000000\n",
       "50%       0.020000\n",
       "75%       0.130000\n",
       "max       6.700000"
      ]
     },
     "execution_count": 256,
     "metadata": {},
     "output_type": "execute_result"
    }
   ],
   "source": [
    "# Use Pandas to calcualte the summary statistics for the precipitation data\n",
    "print(\"The summary statistics for the precipitation data\")\n",
    "last_12month_data_df.describe()"
   ]
  },
  {
   "cell_type": "code",
   "execution_count": 257,
   "metadata": {},
   "outputs": [
    {
     "name": "stdout",
     "output_type": "stream",
     "text": [
      "Design a query to show how many stations are available in this dataset\n",
      "There are 9 stations.\n"
     ]
    }
   ],
   "source": [
    "# Design a query to show how many stations are available in this dataset?\n",
    "print(\"Design a query to show how many stations are available in this dataset\")\n",
    "station_count = session.query(Measurement).group_by(Measurement.station).count()\n",
    "print(\"There are {a} stations.\".format(a=station_count))"
   ]
  },
  {
   "cell_type": "code",
   "execution_count": 258,
   "metadata": {},
   "outputs": [
    {
     "name": "stdout",
     "output_type": "stream",
     "text": [
      "What are the most active stations?\n",
      "The most active station: USC00519281, the counts is: 2772     \n",
      "\n",
      "List the stations and the counts in descending order\n",
      "The station Number: USC00519281, the counts is: 2772     \n",
      "The station Number: USC00519397, the counts is: 2724     \n",
      "The station Number: USC00513117, the counts is: 2709     \n",
      "The station Number: USC00519523, the counts is: 2669     \n",
      "The station Number: USC00516128, the counts is: 2612     \n",
      "The station Number: USC00514830, the counts is: 2202     \n",
      "The station Number: USC00511918, the counts is: 1979     \n",
      "The station Number: USC00517948, the counts is: 1372     \n",
      "The station Number: USC00518838, the counts is: 511     \n"
     ]
    }
   ],
   "source": [
    "# What are the most active stations? (i.e. what stations have the most rows)?\n",
    "# List the stations and the counts in descending order.\n",
    "most_active_station= session.query(Measurement.station,func.count(Measurement.station)\\\n",
    "                     ).group_by(Measurement.station\\\n",
    "                    ).order_by(func.count(Measurement.station\\\n",
    "                    ).desc()).all()\n",
    "print(\"What are the most active stations?\")\n",
    "print(\"The most active station: {a}, the counts is: {b} \\\n",
    "    \".format(a=most_active_station[0][0], b=most_active_station[0][1]))\n",
    "\n",
    "print(\"\\nList the stations and the counts in descending order\")\n",
    "for station in most_active_station:\n",
    "    print(\"The station Number: {a}, the counts is: {b} \\\n",
    "    \".format(a=station[0], b=station[1]))"
   ]
  },
  {
   "cell_type": "code",
   "execution_count": 270,
   "metadata": {},
   "outputs": [
    {
     "name": "stdout",
     "output_type": "stream",
     "text": [
      "Using the station id from the previous query, calculate the lowest temperature recorded\n",
      "The lowest temperature recorded in the station USC00519281 is 54.0 F    \n"
     ]
    }
   ],
   "source": [
    "# Using the station id from the previous query, calculate the lowest temperature recorded, \n",
    "lowest_temperature = session.query(func.min(Measurement.tobs)).\\\n",
    "    filter(Measurement.station == most_active_station[0][0]).all()\n",
    "print(\"Using the station id from the previous query, calculate the lowest temperature recorded\")\n",
    "print(\"The lowest temperature recorded in the station {a} is {b} F\\\n",
    "    \".format(a=most_active_station[0][0], b=lowest_temperature[0][0]))"
   ]
  },
  {
   "cell_type": "code",
   "execution_count": 271,
   "metadata": {},
   "outputs": [
    {
     "name": "stdout",
     "output_type": "stream",
     "text": [
      "The highest temperature recorded, and average temperature of the most active station\n",
      "The highest temperature recorded in the most active station USC00519281 is 85.0 F    \n",
      "The average temperature recorded in the most active station USC00519281 is 71.66 F    \n"
     ]
    }
   ],
   "source": [
    "# highest temperature recorded, and average temperature of the most active station?\n",
    "highest_average_temperature_station =session.query(Measurement.station, \\\n",
    "                    func.max(Measurement.tobs), \\\n",
    "                    func.avg(Measurement.tobs)).\\\n",
    "                    group_by(Measurement.station).\\\n",
    "                    filter(Measurement.station == most_active_station[0][0]).all()\n",
    "print(\"The highest temperature recorded, and average temperature of the most active station\")\n",
    "print(\"The highest temperature recorded in the most active station {a} is {b} F\\\n",
    "    \".format(a=highest_average_temperature_station[0][0],\\\n",
    "             b=highest_average_temperature_station[0][1]))\n",
    "print(\"The average temperature recorded in the most active station {a} is {b} F\\\n",
    "    \".format(a=highest_average_temperature_station[0][0],\\\n",
    "             b=round(highest_average_temperature_station[0][2],2)))"
   ]
  },
  {
   "cell_type": "code",
   "execution_count": 272,
   "metadata": {},
   "outputs": [
    {
     "name": "stdout",
     "output_type": "stream",
     "text": [
      "Choose the station with the highest number of temperature observations\n",
      "The station with the highest number of temperature observations is USC00519281\n"
     ]
    }
   ],
   "source": [
    "# Choose the station with the highest number of temperature observations.\n",
    "highest_number_temperature_observations =session.query(Measurement.station, \\\n",
    "                    func.count(Measurement.tobs)). \\\n",
    "                    group_by(Measurement.station).\\\n",
    "                    order_by(func.count(Measurement.station).desc()).first()\n",
    "\n",
    "print(\"Choose the station with the highest number of temperature observations\")\n",
    "print(\"The station with the highest number of temperature observations is {a}\"\\\n",
    "      .format(a=highest_number_temperature_observations[0]))"
   ]
  },
  {
   "cell_type": "code",
   "execution_count": 273,
   "metadata": {},
   "outputs": [
    {
     "data": {
      "image/png": "[encoded data removed]",
      "text/plain": [
       "<Figure size 432x360 with 1 Axes>"
      ]
     },
     "metadata": {},
     "output_type": "display_data"
    }
   ],
   "source": [
    "# Query the last 12 months of temperature observation data for this station and plot the results as a histogram\n",
    "last_12month_temperature_observation = session.query(Measurement.date, Measurement.tobs)\\\n",
    "                        .order_by(Measurement.date)\\\n",
    "                        .filter(Measurement.date > last_12month_date.date())\\\n",
    "                        .filter(Measurement.station == highest_number_temperature_observations[0])\\\n",
    "                        .all()\n",
    "last_12month_df= pd.DataFrame(last_12month_temperature_observation)\n",
    "\n",
    "fig = plt.figure(figsize = (6,5))\n",
    "ax = fig.gca()\n",
    "last_12month_df.plot.hist(bins=12, ax = ax,density=False )\n",
    "plt.axvline(last_12month_df['tobs'].mean(), color='g', linestyle='dashed', label=\"Average Temperature\")\n",
    "plt.xlabel(\"Temperature\", fontsize=10)\n",
    "plt.title(\"Station Analysis ({0} to {1}) for Station {2}\".format(last_12month_date.date(),latest_date[0], \\\n",
    "          highest_number_temperature_observations[0]), fontsize=13)\n",
    "plt.legend([ \"Average Temperature\", \"Temperature\"])\n",
    "plt.show()"
   ]
  },
  {
   "cell_type": "markdown",
   "metadata": {},
   "source": [
    "## Bonus Challenge Assignment"
   ]
  },
  {
   "cell_type": "code",
   "execution_count": 274,
   "metadata": {},
   "outputs": [
    {
     "name": "stdout",
     "output_type": "stream",
     "text": [
      "The tour start date:2012-02-28\n",
      "The tour end date:2012-03-05\n",
      "The minimum temperatures 62.0\n",
      "The average temperatures 69.57\n",
      "The maximum temperatures 74.0\n"
     ]
    }
   ],
   "source": [
    "# This function called `calc_temps` will accept start date and end date in the format '%Y-%m-%d' \n",
    "# and return the minimum, average, and maximum temperatures for that range of dates\n",
    "def calc_temps(start_date, end_date):\n",
    "    \"\"\"TMIN, TAVG, and TMAX for a list of dates.\n",
    "    \n",
    "    Args:\n",
    "        start_date (string): A date string in the format %Y-%m-%d\n",
    "        end_date (string): A date string in the format %Y-%m-%d\n",
    "        \n",
    "    Returns:\n",
    "        TMIN, TAVE, and TMAX\n",
    "    \"\"\"\n",
    "    \n",
    "    return session.query(func.min(Measurement.tobs), func.avg(Measurement.tobs), func.max(Measurement.tobs)).\\\n",
    "        filter(Measurement.date >= start_date).filter(Measurement.date <= end_date).all()\n",
    "\n",
    "# function usage example\n",
    "tour_start_date = '2012-02-28'\n",
    "tour_end_date = '2012-03-05'\n",
    "min_ave_max = calc_temps(tour_start_date, tour_end_date)\n",
    "print(\"The tour start date:{0}\".format(tour_start_date))\n",
    "print(\"The tour end date:{0}\".format(tour_end_date))\n",
    "print(\"The minimum temperatures {a}\\nThe average temperatures {b}\\nThe maximum temperatures {c}\"\\\n",
    "      .format(a= min_ave_max[0][0], b= round(min_ave_max[0][1],2), c= min_ave_max[0][2]))"
   ]
  },
  {
   "cell_type": "code",
   "execution_count": 275,
   "metadata": {},
   "outputs": [
    {
     "name": "stdout",
     "output_type": "stream",
     "text": [
      "The tour start date:2018-08-08\n",
      "The tour end date:2018-08-15\n",
      "The minimum temperatures 70.0\n",
      "The average temperatures 78.55\n",
      "The maximum temperatures 84.0\n"
     ]
    }
   ],
   "source": [
    "# Use your previous function `calc_temps` to calculate the tmin, tavg, and tmax \n",
    "# for your trip using the previous year's data for those same dates.\n",
    "tour_start_date = datetime.date(2018, 8, 8)\n",
    "tour_end_date = datetime.date(2018, 8, 15)\n",
    "twelve_month = datetime.timedelta(days=365)\n",
    "temp_min_ave_max = (calc_temps((tour_start_date-twelve_month), (tour_end_date-twelve_month)))\n",
    "\n",
    "print(\"The tour start date:{0}\".format(tour_start_date))\n",
    "print(\"The tour end date:{0}\".format(tour_end_date))\n",
    "print(\"The minimum temperatures {a}\\nThe average temperatures {b}\\nThe maximum temperatures {c}\"\\\n",
    "      .format(a= temp_min_ave_max[0][0], b= round(temp_min_ave_max[0][1],2), c= temp_min_ave_max[0][2]))\n"
   ]
  },
  {
   "cell_type": "code",
   "execution_count": 276,
   "metadata": {},
   "outputs": [
    {
     "data": {
      "image/png": "[encoded data removed]",
      "text/plain": [
       "<Figure size 432x288 with 1 Axes>"
      ]
     },
     "metadata": {},
     "output_type": "display_data"
    }
   ],
   "source": [
    "# Plot the results from your previous query as a bar chart. \n",
    "# Use \"Trip Avg Temp\" as your Title\n",
    "# Use the average temperature for the y value\n",
    "# Use the peak-to-peak (tmax-tmin) value as the y error bar (yerr)\n",
    "fig, ax = plt.subplots()\n",
    "x = range(len(temp_min_ave_max))\n",
    "ax.boxplot(temp_min_ave_max, patch_artist=True)\n",
    "ax.set_title(\"Trip Avg Temp from {a} to {b}\"\\\n",
    "             .format(a = str(tour_start_date-twelve_month), \\\n",
    "                     b = str(tour_end_date-twelve_month)),\\\n",
    "             fontsize=13)\n",
    "             \n",
    "ax.set_ylabel(\"Average Temperature\",fontsize=13)\n",
    "ax.set_xlabel(\"Last year trip\", fontsize=13)\n",
    "fig.tight_layout()\n",
    "plt.show()"
   ]
  },
  {
   "cell_type": "code",
   "execution_count": 277,
   "metadata": {},
   "outputs": [
    {
     "name": "stdout",
     "output_type": "stream",
     "text": [
      "list the station,name, latitude, longitude, and elevation\n",
      "---------------------------------------\n",
      " Station: USC00516128\n",
      " Name: MANOA LYON ARBO 785.2, HI US\n",
      " latitude: 21.3331        \n",
      " longitude: -157.8025\n",
      " elevation: 152.4\n",
      " Total amount of rainfall between 2017-08-08 and 2017-08-15 is: 1.34\n",
      "---------------------------------------\n",
      " Station: USC00519281\n",
      " Name: WAIHEE 837.5, HI US\n",
      " latitude: 21.45167        \n",
      " longitude: -157.84888999999998\n",
      " elevation: 32.9\n",
      " Total amount of rainfall between 2017-08-08 and 2017-08-15 is: 0.32\n",
      "---------------------------------------\n",
      " Station: USC00519523\n",
      " Name: WAIMANALO EXPERIMENTAL FARM, HI US\n",
      " latitude: 21.33556        \n",
      " longitude: -157.71139\n",
      " elevation: 19.5\n",
      " Total amount of rainfall between 2017-08-08 and 2017-08-15 is: 0.14\n",
      "---------------------------------------\n",
      " Station: USC00514830\n",
      " Name: KUALOA RANCH HEADQUARTERS 886.9, HI US\n",
      " latitude: 21.5213        \n",
      " longitude: -157.8374\n",
      " elevation: 7.0\n",
      " Total amount of rainfall between 2017-08-08 and 2017-08-15 is: 0.11\n",
      "---------------------------------------\n",
      " Station: USC00519397\n",
      " Name: WAIKIKI 717.2, HI US\n",
      " latitude: 21.2716        \n",
      " longitude: -157.8168\n",
      " elevation: 3.0\n",
      " Total amount of rainfall between 2017-08-08 and 2017-08-15 is: 0.02\n",
      "---------------------------------------\n"
     ]
    }
   ],
   "source": [
    "# Calculate the total amount of rainfall per weather station for your trip dates using the previous year's matching dates.\n",
    "# Sort this in descending order by precipitation amount and list the station, name, latitude, longitude, and elevation\n",
    "\n",
    "total_amount_rainfall = session.query(Measurement.station, \\\n",
    "                        Station.name, Station.latitude,\\\n",
    "                        Station.longitude, Station.elevation,\\\n",
    "                        func.sum(Measurement.prcp))\\\n",
    "                        .group_by(Measurement.station)\\\n",
    "                        .filter(Measurement.date >= (tour_start_date-twelve_month))\\\n",
    "                        .filter(Measurement.date <=(tour_end_date-twelve_month))\\\n",
    "                        .order_by(func.sum(Measurement.prcp).desc())\\\n",
    "                        .filter(Measurement.station == Station.station).all()\n",
    "\n",
    "\n",
    "print(\"list the station,name, latitude, longitude, and elevation\")\n",
    "print(\"---------------------------------------\")\n",
    "for station in total_amount_rainfall:\n",
    "    print(\" Station: {a}\\n Name: {b}\\n latitude: {c}\\\n",
    "        \\n longitude: {d}\\n elevation: {e}\\n Total amount of rainfall between {g} and {h} is: {f}\"\\\n",
    "          .format(a=station[0],b=station[1],c=station[2],\\\n",
    "            d=station[3],e=station[4],f=station[5],\\\n",
    "            g=(tour_start_date-twelve_month),h=(tour_end_date-twelve_month)))\n",
    "    print(\"---------------------------------------\")"
   ]
  },
  {
   "cell_type": "code",
   "execution_count": 229,
   "metadata": {},
   "outputs": [
    {
     "name": "stdout",
     "output_type": "stream",
     "text": [
      "The tour date:01-01\n",
      "The minimum temperatures 62.0\n",
      "The average temperatures 69.15\n",
      "The maximum temperatures 77.0\n"
     ]
    }
   ],
   "source": [
    "# Create a query that will calculate the daily normals \n",
    "# (i.e. the averages for tmin, tmax, and tavg for all historic data matching a specific month and day)\n",
    "\n",
    "def daily_normals(date):\n",
    "    \"\"\"Daily Normals.\n",
    "    \n",
    "    Args:\n",
    "        date (str): A date string in the format '%m-%d'\n",
    "        \n",
    "    Returns:\n",
    "        A list of tuples containing the daily normals, tmin, tavg, and tmax\n",
    "    \n",
    "    \"\"\"\n",
    "    \n",
    "    sel = [func.min(Measurement.tobs), func.avg(Measurement.tobs), func.max(Measurement.tobs)]\n",
    "    return session.query(*sel).filter(func.strftime(\"%m-%d\", Measurement.date) == date).all()\n",
    "\n",
    "tour_date = \"01-01\"\n",
    "daily_min_avg_max = daily_normals(tour_date)\n",
    "print(\"The tour date:{0}\".format(tour_date))\n",
    "print(\"The minimum temperatures {a}\\nThe average temperatures {b}\\nThe maximum temperatures {c}\"\\\n",
    "      .format(a= daily_min_avg_max[0][0], b= round(daily_min_avg_max[0][1],2), c= daily_min_avg_max[0][2]))"
   ]
  },
  {
   "cell_type": "code",
   "execution_count": 230,
   "metadata": {
    "scrolled": true
   },
   "outputs": [
    {
     "data": {
      "text/plain": [
       "[(68.0, 76.5576923076923, 83.0),\n",
       " (69.0, 75.98039215686275, 81.0),\n",
       " (65.0, 76.42, 83.0),\n",
       " (67.0, 75.98113207547169, 82.0),\n",
       " (67.0, 76.52727272727273, 83.0),\n",
       " (71.0, 76.98245614035088, 84.0),\n",
       " (71.0, 76.77777777777777, 82.0),\n",
       " (69.0, 76.47169811320755, 83.0)]"
      ]
     },
     "execution_count": 230,
     "metadata": {},
     "output_type": "execute_result"
    }
   ],
   "source": [
    "# calculate the daily normals for your trip\n",
    "# push each tuple of calculations into a list called `normals`\n",
    "normals = []\n",
    "\n",
    "# Set the start and end date of the trip\n",
    "\n",
    "tour_start_date = datetime.date(2018, 8, 8)\n",
    "tour_end_date = datetime.date(2018, 8, 15)\n",
    "\n",
    "twelve_month = datetime.timedelta(days=365)\n",
    "\n",
    "last_year_tour_start_date = tour_start_date -twelve_month\n",
    "last_year_tour_end_date = tour_end_date -twelve_month\n",
    "\n",
    "# Use the start and end date to create a range of dates\n",
    "# Stip off the year and save a list of %m-%d strings\n",
    "\n",
    "trip_dates = []\n",
    "\n",
    "# Loop through the list of %m-%d strings and calculate the normals for each date\n",
    "for days in range((last_year_tour_end_date-last_year_tour_start_date).days+1):\n",
    "    normals.append(daily_normals((last_year_tour_start_date +  datetime.timedelta(days=days)).strftime('%m-%d'))[0])\n",
    "    trip_dates.append(last_year_tour_start_date +  datetime.timedelta(days=days))\n",
    "normals"
   ]
  },
  {
   "cell_type": "code",
   "execution_count": 231,
   "metadata": {},
   "outputs": [
    {
     "data": {
      "text/html": [
       "<div>\n",
       "<style scoped>\n",
       "    .dataframe tbody tr th:only-of-type {\n",
       "        vertical-align: middle;\n",
       "    }\n",
       "\n",
       "    .dataframe tbody tr th {\n",
       "        vertical-align: top;\n",
       "    }\n",
       "\n",
       "    .dataframe thead th {\n",
       "        text-align: right;\n",
       "    }\n",
       "</style>\n",
       "<table border=\"1\" class=\"dataframe\">\n",
       "  <thead>\n",
       "    <tr style=\"text-align: right;\">\n",
       "      <th></th>\n",
       "      <th>min</th>\n",
       "      <th>avg</th>\n",
       "      <th>max</th>\n",
       "    </tr>\n",
       "    <tr>\n",
       "      <th>date</th>\n",
       "      <th></th>\n",
       "      <th></th>\n",
       "      <th></th>\n",
       "    </tr>\n",
       "  </thead>\n",
       "  <tbody>\n",
       "    <tr>\n",
       "      <th>2017-08-08</th>\n",
       "      <td>68.0</td>\n",
       "      <td>76.557692</td>\n",
       "      <td>83.0</td>\n",
       "    </tr>\n",
       "    <tr>\n",
       "      <th>2017-08-09</th>\n",
       "      <td>69.0</td>\n",
       "      <td>75.980392</td>\n",
       "      <td>81.0</td>\n",
       "    </tr>\n",
       "    <tr>\n",
       "      <th>2017-08-10</th>\n",
       "      <td>65.0</td>\n",
       "      <td>76.420000</td>\n",
       "      <td>83.0</td>\n",
       "    </tr>\n",
       "    <tr>\n",
       "      <th>2017-08-11</th>\n",
       "      <td>67.0</td>\n",
       "      <td>75.981132</td>\n",
       "      <td>82.0</td>\n",
       "    </tr>\n",
       "    <tr>\n",
       "      <th>2017-08-12</th>\n",
       "      <td>67.0</td>\n",
       "      <td>76.527273</td>\n",
       "      <td>83.0</td>\n",
       "    </tr>\n",
       "    <tr>\n",
       "      <th>2017-08-13</th>\n",
       "      <td>71.0</td>\n",
       "      <td>76.982456</td>\n",
       "      <td>84.0</td>\n",
       "    </tr>\n",
       "    <tr>\n",
       "      <th>2017-08-14</th>\n",
       "      <td>71.0</td>\n",
       "      <td>76.777778</td>\n",
       "      <td>82.0</td>\n",
       "    </tr>\n",
       "    <tr>\n",
       "      <th>2017-08-15</th>\n",
       "      <td>69.0</td>\n",
       "      <td>76.471698</td>\n",
       "      <td>83.0</td>\n",
       "    </tr>\n",
       "  </tbody>\n",
       "</table>\n",
       "</div>"
      ],
      "text/plain": [
       "             min        avg   max\n",
       "date                             \n",
       "2017-08-08  68.0  76.557692  83.0\n",
       "2017-08-09  69.0  75.980392  81.0\n",
       "2017-08-10  65.0  76.420000  83.0\n",
       "2017-08-11  67.0  75.981132  82.0\n",
       "2017-08-12  67.0  76.527273  83.0\n",
       "2017-08-13  71.0  76.982456  84.0\n",
       "2017-08-14  71.0  76.777778  82.0\n",
       "2017-08-15  69.0  76.471698  83.0"
      ]
     },
     "execution_count": 231,
     "metadata": {},
     "output_type": "execute_result"
    }
   ],
   "source": [
    "# Load the previous query results into a Pandas DataFrame and add the `trip_dates` range as the `date` index\n",
    "normals_df = pd.DataFrame(normals, columns=['min', 'avg', 'max'])\n",
    "\n",
    "normals_df[\"date\"] = trip_dates\n",
    "normals_df.set_index('date', inplace=True)\n",
    "normals_df.head(8)"
   ]
  },
  {
   "cell_type": "code",
   "execution_count": 232,
   "metadata": {},
   "outputs": [
    {
     "data": {
      "image/png": "[encoded data removed]",
      "text/plain": [
       "<Figure size 576x288 with 1 Axes>"
      ]
     },
     "metadata": {},
     "output_type": "display_data"
    }
   ],
   "source": [
    "# Plot the daily normals as an area plot with `stacked=False`\n",
    "normals_df.plot(kind='area', stacked=False, figsize=(8,4))\n",
    "plt.xticks(rotation=90)\n",
    "plt.legend(loc='best')\n",
    "plt.show(block=True);"
   ]
  },
  {
   "cell_type": "markdown",
   "metadata": {},
   "source": [
    "### Temperature Analysis I"
   ]
  },
  {
   "cell_type": "code",
   "execution_count": 312,
   "metadata": {},
   "outputs": [
    {
     "name": "stdout",
     "output_type": "stream",
     "text": [
      "The average temperature is: 74.94 in June. 71.04 in December. \n"
     ]
    }
   ],
   "source": [
    "# Hawaii is reputed to enjoy mild weather all year. \n",
    "#Is there a meaningful difference between the temperature in, for example, June and December?\n",
    "# Identify the average temperature in June \n",
    "# at all stations across all available years in the dataset. Do the same for December temperature.\n",
    "\n",
    "avg_temp_June = session.query(func.avg(Measurement.tobs)).filter(func.strftime(\"%m\", Measurement.date) == '06').all()\n",
    "avg_temp_Dec = session.query(func.avg(Measurement.tobs)).filter(func.strftime(\"%m\", Measurement.date) == '12').all()\n",
    "print(\"The average temperature is: {0:.2f} in June. {1:.2f} in December. \"\\\n",
    "      .format(avg_temp_June[0][0], avg_temp_Dec[0][0]))\n"
   ]
  },
  {
   "cell_type": "code",
   "execution_count": 313,
   "metadata": {},
   "outputs": [],
   "source": [
    "# Use the t-test to determine whether the difference in the means, \n",
    "#if any, is statistically significant. Will you use a paired t-test, \n",
    "#or an unpaired t-test? Why?\n",
    "\n",
    "#obtain weather data of the month June\n",
    "avg_temp_June = session.query(Measurement.tobs).filter(func.strftime(\"%m\", Measurement.date) == '06').all()\n",
    "\n",
    "#obtain weather data of the month December\n",
    "avg_temp_Dec = session.query(Measurement.tobs).filter(func.strftime(\"%m\", Measurement.date) == '12').all()\n",
    "\n",
    "#convert data to list  \n",
    "avg_temp_June_list = list(np.ravel(avg_temp_June))\n",
    "avg_temp_Dec_list = list(np.ravel(avg_temp_Dec))"
   ]
  },
  {
   "cell_type": "code",
   "execution_count": 309,
   "metadata": {},
   "outputs": [
    {
     "name": "stdout",
     "output_type": "stream",
     "text": [
      "The small p-value is: 0.0007094853311953783 p-value<0.05. the populations do not have equal variances\n"
     ]
    }
   ],
   "source": [
    "#Test whether or not the lists June and  December come from populations with equal variances\n",
    "small_pvalue = stats.levene(avg_temp_June_list,avg_temp_Dec_list)\n",
    "if small_pvalue.pvalue < 0.05:\n",
    "    print(\"The small p-value is: {0} p-value<0.05. the populations \\\n",
    "do not have equal variances\".format(small_pvalue.pvalue))\n",
    "else:\n",
    "    print(\"The small p-value is: {0} p-value>=0.05. the populations \\\n",
    "have equal variances\".format(small_pvalue.pvalue))\n",
    "#The small p-value<0.05 suggests that the populations do not have equal variances."
   ]
  },
  {
   "cell_type": "code",
   "execution_count": 311,
   "metadata": {},
   "outputs": [
    {
     "name": "stdout",
     "output_type": "stream",
     "text": [
      "The p-value is: 0.0007094853311953783 p-value<0.05. two data samples have significant different means.\n"
     ]
    }
   ],
   "source": [
    "# I use the unpaired t-test procedure that compares the means of two independent data, \n",
    "# because weather data from June and December is independent. \n",
    "\n",
    "#perform two sample t-test\n",
    "if small_pvalue.pvalue < 0.05:\n",
    "    # population variances is not equal\n",
    "    pvalue = stats.ttest_ind(avg_temp_June_list, avg_temp_Dec_list, equal_var=False)\n",
    "else:\n",
    "    # population variances is equal\n",
    "    pvalue = stats.ttest_ind(avg_temp_June_list, avg_temp_Dec_list, equal_var=True)\n",
    "    \n",
    "if pvalue.pvalue < 0.05:    \n",
    "    print(\"The p-value is: {0} p-value<0.05. two data samples have \\\n",
    "significant different means.\".format(small_pvalue.pvalue))\n",
    "else:\n",
    "    print(\"The p-value is: {0} p-value<0.05. two data samples have \\\n",
    "similar means.\".format(small_pvalue.pvalue))\n",
    "\n",
    "    \n",
    "# The p-value<0.05 suggests that the populations two data samples have significant different means.  "
   ]
  },
  {
   "cell_type": "code",
   "execution_count": 236,
   "metadata": {},
   "outputs": [
    {
     "data": {
      "text/plain": [
       "[(58.0, 74.14387974230493, 87.0)]"
      ]
     },
     "execution_count": 236,
     "metadata": {},
     "output_type": "execute_result"
    }
   ],
   "source": [
    "#* The starter notebook contains a function called `calc_temps` that will \n",
    "#accept a start date and end date in the format `%Y-%m-%d`. \n",
    "#The function will return the minimum, average, and maximum temperatures for that range of dates.\n",
    "def calc_temps(start_date, end_date):\n",
    "    sel = [func.min(Measurement.tobs), func.avg(Measurement.tobs), func.max(Measurement.tobs)]\n",
    "    return session.query(*sel).filter(\\\n",
    "            func.strftime(\"%Y-%m-%d\",Measurement.date) >=func.strftime(\"%Y-%m-%d\", start_date) ).filter(\\\n",
    "            func.strftime(\"%Y-%m-%d\",Measurement.date) <=func.strftime(\"%Y-%m-%d\", end_date) ).all()\n",
    "calc_temps('2017-01-01','2018-01-01')"
   ]
  },
  {
   "cell_type": "code",
   "execution_count": 237,
   "metadata": {},
   "outputs": [
    {
     "data": {
      "text/html": [
       "<div>\n",
       "<style scoped>\n",
       "    .dataframe tbody tr th:only-of-type {\n",
       "        vertical-align: middle;\n",
       "    }\n",
       "\n",
       "    .dataframe tbody tr th {\n",
       "        vertical-align: top;\n",
       "    }\n",
       "\n",
       "    .dataframe thead th {\n",
       "        text-align: right;\n",
       "    }\n",
       "</style>\n",
       "<table border=\"1\" class=\"dataframe\">\n",
       "  <thead>\n",
       "    <tr style=\"text-align: right;\">\n",
       "      <th></th>\n",
       "      <th>min</th>\n",
       "      <th>avg</th>\n",
       "      <th>max</th>\n",
       "    </tr>\n",
       "  </thead>\n",
       "  <tbody>\n",
       "    <tr>\n",
       "      <th>0</th>\n",
       "      <td>58.0</td>\n",
       "      <td>74.14388</td>\n",
       "      <td>87.0</td>\n",
       "    </tr>\n",
       "  </tbody>\n",
       "</table>\n",
       "</div>"
      ],
      "text/plain": [
       "    min       avg   max\n",
       "0  58.0  74.14388  87.0"
      ]
     },
     "execution_count": 237,
     "metadata": {},
     "output_type": "execute_result"
    }
   ],
   "source": [
    "#* Plot the min, avg, and max temperature from your previous query as a bar chart.\n",
    "#* Use the average temperature as the bar height.\n",
    "#* Use the peak-to-peak (TMAX-TMIN) value as the y error bar (YERR).\n",
    "mytrip = calc_temps('2017-01-01','2018-01-01')\n",
    "\n",
    "mytrip_df = pd.DataFrame(mytrip, columns=['min', 'avg', 'max'])\n",
    "mytrip_df"
   ]
  },
  {
   "cell_type": "code",
   "execution_count": 238,
   "metadata": {},
   "outputs": [
    {
     "data": {
      "text/plain": [
       "<matplotlib.axes._subplots.AxesSubplot at 0x1a8f6236808>"
      ]
     },
     "execution_count": 238,
     "metadata": {},
     "output_type": "execute_result"
    },
    {
     "data": {
      "image/png": "[encoded data removed]",
      "text/plain": [
       "<Figure size 216x216 with 1 Axes>"
      ]
     },
     "metadata": {},
     "output_type": "display_data"
    }
   ],
   "source": [
    "error = mytrip_df['max'].sub(mytrip_df['min'])\n",
    "mytrip_df.plot.bar(y='avg',yerr=error, color='mistyrose', width = 0.2, figsize=(3,3))"
   ]
  },
  {
   "cell_type": "code",
   "execution_count": 239,
   "metadata": {},
   "outputs": [
    {
     "data": {
      "text/plain": [
       "[('USC00513117', 34.62000000000001),\n",
       " ('USC00514830', 21.80000000000002),\n",
       " ('USC00516128', 68.78000000000003),\n",
       " ('USC00517948', 3.39),\n",
       " ('USC00519281', 43.66000000000002),\n",
       " ('USC00519397', 10.659999999999993),\n",
       " ('USC00519523', 27.319999999999993)]"
      ]
     },
     "execution_count": 239,
     "metadata": {},
     "output_type": "execute_result"
    }
   ],
   "source": [
    "#Calculate the rainfall per weather station using the previous year's matching dates.\n",
    "def calc_prcp_by_station(start_date, end_date):\n",
    "\n",
    "    return session.query(Measurement.station, func.sum(Measurement.prcp)).filter(\\\n",
    "            func.strftime(\"%Y-%m-%d\",Measurement.date) >=func.strftime(\"%Y-%m-%d\", start_date) ).filter(\\\n",
    "            func.strftime(\"%Y-%m-%d\",Measurement.date) <=func.strftime(\"%Y-%m-%d\", end_date) )\\\n",
    "            .group_by(Measurement.station).all()\n",
    "\n",
    "calc_prcp_by_station('2017-01-01','2018-01-01')"
   ]
  },
  {
   "cell_type": "code",
   "execution_count": 240,
   "metadata": {},
   "outputs": [
    {
     "data": {
      "text/plain": [
       "[(56.0, 68.14035087719299, 78.0)]"
      ]
     },
     "execution_count": 240,
     "metadata": {},
     "output_type": "execute_result"
    }
   ],
   "source": [
    "#* Calculate the daily normals. Normals are the averages for the min, avg, and max temperatures.\n",
    "#* You are provided with a function called `daily_normals` \n",
    "#that will calculate the daily normals for a specific date. \n",
    "#This date string will be in the format `%m-%d`. \n",
    "#Be sure to use all historic TOBS that match that date string.\n",
    "def daily_normals(date):\n",
    "    sel = [func.min(Measurement.tobs), func.avg(Measurement.tobs), func.max(Measurement.tobs)]\n",
    "    return  session.query(*sel).filter(func.strftime(\"%m-%d\",Measurement.date) == date).all()\n",
    "\n",
    "daily_normals('02-01')"
   ]
  },
  {
   "cell_type": "code",
   "execution_count": 241,
   "metadata": {},
   "outputs": [
    {
     "data": {
      "text/html": [
       "<div>\n",
       "<style scoped>\n",
       "    .dataframe tbody tr th:only-of-type {\n",
       "        vertical-align: middle;\n",
       "    }\n",
       "\n",
       "    .dataframe tbody tr th {\n",
       "        vertical-align: top;\n",
       "    }\n",
       "\n",
       "    .dataframe thead th {\n",
       "        text-align: right;\n",
       "    }\n",
       "</style>\n",
       "<table border=\"1\" class=\"dataframe\">\n",
       "  <thead>\n",
       "    <tr style=\"text-align: right;\">\n",
       "      <th></th>\n",
       "      <th>min</th>\n",
       "      <th>avg</th>\n",
       "      <th>max</th>\n",
       "    </tr>\n",
       "    <tr>\n",
       "      <th>date</th>\n",
       "      <th></th>\n",
       "      <th></th>\n",
       "      <th></th>\n",
       "    </tr>\n",
       "  </thead>\n",
       "  <tbody>\n",
       "    <tr>\n",
       "      <th>01-01</th>\n",
       "      <td>62.0</td>\n",
       "      <td>69.153846</td>\n",
       "      <td>77.0</td>\n",
       "    </tr>\n",
       "    <tr>\n",
       "      <th>01-02</th>\n",
       "      <td>60.0</td>\n",
       "      <td>69.396226</td>\n",
       "      <td>77.0</td>\n",
       "    </tr>\n",
       "    <tr>\n",
       "      <th>01-03</th>\n",
       "      <td>62.0</td>\n",
       "      <td>68.909091</td>\n",
       "      <td>77.0</td>\n",
       "    </tr>\n",
       "    <tr>\n",
       "      <th>01-04</th>\n",
       "      <td>58.0</td>\n",
       "      <td>70.000000</td>\n",
       "      <td>76.0</td>\n",
       "    </tr>\n",
       "    <tr>\n",
       "      <th>01-05</th>\n",
       "      <td>56.0</td>\n",
       "      <td>67.964286</td>\n",
       "      <td>76.0</td>\n",
       "    </tr>\n",
       "    <tr>\n",
       "      <th>01-06</th>\n",
       "      <td>61.0</td>\n",
       "      <td>68.964912</td>\n",
       "      <td>76.0</td>\n",
       "    </tr>\n",
       "    <tr>\n",
       "      <th>01-07</th>\n",
       "      <td>57.0</td>\n",
       "      <td>68.543860</td>\n",
       "      <td>76.0</td>\n",
       "    </tr>\n",
       "    <tr>\n",
       "      <th>01-08</th>\n",
       "      <td>57.0</td>\n",
       "      <td>67.160714</td>\n",
       "      <td>75.0</td>\n",
       "    </tr>\n",
       "    <tr>\n",
       "      <th>01-09</th>\n",
       "      <td>58.0</td>\n",
       "      <td>67.929825</td>\n",
       "      <td>78.0</td>\n",
       "    </tr>\n",
       "    <tr>\n",
       "      <th>01-10</th>\n",
       "      <td>62.0</td>\n",
       "      <td>69.741379</td>\n",
       "      <td>77.0</td>\n",
       "    </tr>\n",
       "    <tr>\n",
       "      <th>01-11</th>\n",
       "      <td>57.0</td>\n",
       "      <td>67.310345</td>\n",
       "      <td>78.0</td>\n",
       "    </tr>\n",
       "    <tr>\n",
       "      <th>01-12</th>\n",
       "      <td>57.0</td>\n",
       "      <td>67.407407</td>\n",
       "      <td>81.0</td>\n",
       "    </tr>\n",
       "    <tr>\n",
       "      <th>01-13</th>\n",
       "      <td>57.0</td>\n",
       "      <td>67.254545</td>\n",
       "      <td>77.0</td>\n",
       "    </tr>\n",
       "    <tr>\n",
       "      <th>01-14</th>\n",
       "      <td>58.0</td>\n",
       "      <td>69.526316</td>\n",
       "      <td>77.0</td>\n",
       "    </tr>\n",
       "    <tr>\n",
       "      <th>01-15</th>\n",
       "      <td>56.0</td>\n",
       "      <td>69.313725</td>\n",
       "      <td>78.0</td>\n",
       "    </tr>\n",
       "  </tbody>\n",
       "</table>\n",
       "</div>"
      ],
      "text/plain": [
       "        min        avg   max\n",
       "date                        \n",
       "01-01  62.0  69.153846  77.0\n",
       "01-02  60.0  69.396226  77.0\n",
       "01-03  62.0  68.909091  77.0\n",
       "01-04  58.0  70.000000  76.0\n",
       "01-05  56.0  67.964286  76.0\n",
       "01-06  61.0  68.964912  76.0\n",
       "01-07  57.0  68.543860  76.0\n",
       "01-08  57.0  67.160714  75.0\n",
       "01-09  58.0  67.929825  78.0\n",
       "01-10  62.0  69.741379  77.0\n",
       "01-11  57.0  67.310345  78.0\n",
       "01-12  57.0  67.407407  81.0\n",
       "01-13  57.0  67.254545  77.0\n",
       "01-14  58.0  69.526316  77.0\n",
       "01-15  56.0  69.313725  78.0"
      ]
     },
     "execution_count": 241,
     "metadata": {},
     "output_type": "execute_result"
    }
   ],
   "source": [
    "#* Create a list of dates for your trip in the format `%m-%d`. \n",
    "#Use the `daily_normals` function to calculate the normals \n",
    "#for each date string and append the results to a list.\n",
    "end_date = datetime.datetime.strptime(\"01-15\", '%m-%d')\n",
    "start_date = datetime.datetime.strptime(\"01-01\", '%m-%d')\n",
    "tour_days = end_date - start_date\n",
    "result = []\n",
    "date = []\n",
    "for day in range(tour_days.days + 1):\n",
    "    current_date = start_date + datetime.timedelta(days=day)\n",
    "    date.append(current_date.strftime(\"%m-%d\"))\n",
    "    result.append(daily_normals((current_date).strftime(\"%m-%d\"))[0])\n",
    "    \n",
    "mytrip_df = pd.DataFrame(result, columns=['min', 'avg', 'max'])\n",
    "mytrip_df['date'] = date\n",
    "#Load the list of daily normals into a Pandas DataFrame and set the index equal to the date.\n",
    "mytrip_df.set_index('date', inplace=True)\n",
    "mytrip_df.head()\n",
    "mytrip_df"
   ]
  },
  {
   "cell_type": "code",
   "execution_count": 242,
   "metadata": {},
   "outputs": [
    {
     "data": {
      "image/png": "[encoded data removed]",
      "text/plain": [
       "<Figure size 576x288 with 1 Axes>"
      ]
     },
     "metadata": {},
     "output_type": "display_data"
    }
   ],
   "source": [
    "#* Use Pandas to plot an area plot (`stacked=False`) for the daily normals.\n",
    "mytrip_df.plot(kind='area', stacked=False, figsize=(8,4))\n",
    "#plt.xticks(rotation=90)\n",
    "plt.legend(loc='best')\n",
    "plt.show(block=True);"
   ]
  }
 ],
 "metadata": {
  "kernel_info": {
   "name": "python3"
  },
  "kernelspec": {
   "display_name": "Python 3",
   "language": "python",
   "name": "python3"
  },
  "language_info": {
   "codemirror_mode": {
    "name": "ipython",
    "version": 3
   },
   "file_extension": ".py",
   "mimetype": "text/x-python",
   "name": "python",
   "nbconvert_exporter": "python",
   "pygments_lexer": "ipython3",
   "version": "3.7.6"
  },
  "nteract": {
   "version": "0.12.3"
  },
  "varInspector": {
   "cols": {
    "lenName": 16,
    "lenType": 16,
    "lenVar": 40
   },
   "kernels_config": {
    "python": {
     "delete_cmd_postfix": "",
     "delete_cmd_prefix": "del ",
     "library": "var_list.py",
     "varRefreshCmd": "print(var_dic_list())"
    },
    "r": {
     "delete_cmd_postfix": ") ",
     "delete_cmd_prefix": "rm(",
     "library": "var_list.r",
     "varRefreshCmd": "cat(var_dic_list()) "
    }
   },
   "types_to_exclude": [
    "module",
    "function",
    "builtin_function_or_method",
    "instance",
    "_Feature"
   ],
   "window_display": false
  }
 },
 "nbformat": 4,
 "nbformat_minor": 2
}
